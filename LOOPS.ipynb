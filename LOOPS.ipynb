{
 "cells": [
  {
   "cell_type": "markdown",
   "id": "6bf40684",
   "metadata": {},
   "source": [
    "# While Loop"
   ]
  },
  {
   "cell_type": "code",
   "execution_count": 6,
   "id": "d173a1c9",
   "metadata": {},
   "outputs": [
    {
     "name": "stdout",
     "output_type": "stream",
     "text": [
      "0 1 2 3 4 5 6 7 8 9 "
     ]
    }
   ],
   "source": [
    "# write a program using while loop starting ten numbers starts with '0'\n",
    "x = 0\n",
    "while x<10:\n",
    "    print(x,end = ' ')\n",
    "    x+=1"
   ]
  },
  {
   "cell_type": "code",
   "execution_count": 9,
   "id": "8a39a795",
   "metadata": {},
   "outputs": [
    {
     "name": "stdout",
     "output_type": "stream",
     "text": [
      "Entering the while block with a's values as 0\n",
      "0 after increament of value, exiting the while block with a's value 1\n",
      "\n",
      "Entering the while block with a's values as 1\n",
      "1 after increament of value, exiting the while block with a's value 2\n",
      "\n",
      "Entering the while block with a's values as 2\n",
      "2 after increament of value, exiting the while block with a's value 3\n",
      "\n",
      "Entering the while block with a's values as 3\n",
      "3 after increament of value, exiting the while block with a's value 4\n",
      "\n",
      "Entering the while block with a's values as 4\n",
      "4 after increament of value, exiting the while block with a's value 5\n",
      "\n",
      "Entering the while block with a's values as 5\n",
      "5 after increament of value, exiting the while block with a's value 6\n",
      "\n",
      "Entering the while block with a's values as 6\n",
      "6 after increament of value, exiting the while block with a's value 7\n",
      "\n",
      "Entering the while block with a's values as 7\n",
      "7 after increament of value, exiting the while block with a's value 8\n",
      "\n",
      "Entering the while block with a's values as 8\n",
      "8 after increament of value, exiting the while block with a's value 9\n",
      "\n",
      "Entering the while block with a's values as 9\n",
      "9 after increament of value, exiting the while block with a's value 10\n",
      "\n"
     ]
    }
   ],
   "source": [
    "x = 0\n",
    "while x<10:\n",
    "    print(f'Entering the while block with a\\'s values as {x}')\n",
    "    print(x,end = ' ')\n",
    "    x+=1\n",
    "    print(f'after increament of value, exiting the while block with a\\'s value {x}\\n')"
   ]
  },
  {
   "cell_type": "code",
   "execution_count": 23,
   "id": "9dbcbaba",
   "metadata": {},
   "outputs": [
    {
     "name": "stdout",
     "output_type": "stream",
     "text": [
      "Enter the stating value: -10\n",
      "Enter the ending value: 10\n",
      "\n",
      "-9 -7 -5 -3 -1 1 3 5 7 9 "
     ]
    }
   ],
   "source": [
    "# write a program to prind all the odd numbers in a given range\n",
    "x = int(input('Enter the stating value: '))\n",
    "y = int(input('Enter the ending value: '))\n",
    "print()\n",
    "while x<y:\n",
    "    if x%2!=0:\n",
    "        print(x,end=' ')\n",
    "    x+=1"
   ]
  },
  {
   "cell_type": "code",
   "execution_count": 21,
   "id": "bf7adfe3",
   "metadata": {},
   "outputs": [
    {
     "name": "stdout",
     "output_type": "stream",
     "text": [
      "1 3 5 7 9 11 "
     ]
    }
   ],
   "source": [
    "x = 0\n",
    "while x in range(12):\n",
    "    if x%2!=0:\n",
    "        print(x,end=' ')\n",
    "    x+=1"
   ]
  },
  {
   "cell_type": "code",
   "execution_count": 1,
   "id": "db2fabe2",
   "metadata": {},
   "outputs": [
    {
     "name": "stdout",
     "output_type": "stream",
     "text": [
      "Enter the string:  assan\n",
      "a s n "
     ]
    }
   ],
   "source": [
    "# accept a string from user print the alternate charecters in string\n",
    "x = input('Enter the string:  ')\n",
    "i = 0\n",
    "while i<len(x):\n",
    "    #if i%2==0:\n",
    "    print(x[i],end=' ')\n",
    "    i+=2"
   ]
  },
  {
   "cell_type": "code",
   "execution_count": 66,
   "id": "95cf0f8e",
   "metadata": {},
   "outputs": [
    {
     "name": "stdout",
     "output_type": "stream",
     "text": [
      "Enter the string: hassan\n",
      "hn aa ss "
     ]
    }
   ],
   "source": [
    "x = input('Enter the string: ')\n",
    "i = 0\n",
    "j = -1\n",
    "while i<len(x)/2:\n",
    "    print(x[i]+x[j],end =' ')\n",
    "    i+=1\n",
    "    j-=1\n",
    "    "
   ]
  },
  {
   "cell_type": "code",
   "execution_count": 77,
   "id": "16af5ce6",
   "metadata": {},
   "outputs": [
    {
     "name": "stdout",
     "output_type": "stream",
     "text": [
      "Enter the string: abcdef\n",
      "Enter the string: ghijkl\n",
      "al bk cj di eh fg "
     ]
    }
   ],
   "source": [
    "# take two strings of equal length which write a output\n",
    "x = input('Enter the string: ')\n",
    "y = input('Enter the string: ')\n",
    "i = 0\n",
    "j = -1\n",
    "while i<len(x):\n",
    "    print(x[i]+y[j],end = ' ')\n",
    "    i+=1\n",
    "    j-=1"
   ]
  },
  {
   "cell_type": "code",
   "execution_count": null,
   "id": "c5c8a031",
   "metadata": {},
   "outputs": [],
   "source": []
  },
  {
   "cell_type": "code",
   "execution_count": null,
   "id": "9ddacd90",
   "metadata": {},
   "outputs": [],
   "source": []
  },
  {
   "cell_type": "code",
   "execution_count": null,
   "id": "05abdae9",
   "metadata": {},
   "outputs": [],
   "source": []
  }
 ],
 "metadata": {
  "kernelspec": {
   "display_name": "Python 3 (ipykernel)",
   "language": "python",
   "name": "python3"
  },
  "language_info": {
   "codemirror_mode": {
    "name": "ipython",
    "version": 3
   },
   "file_extension": ".py",
   "mimetype": "text/x-python",
   "name": "python",
   "nbconvert_exporter": "python",
   "pygments_lexer": "ipython3",
   "version": "3.10.9"
  }
 },
 "nbformat": 4,
 "nbformat_minor": 5
}
