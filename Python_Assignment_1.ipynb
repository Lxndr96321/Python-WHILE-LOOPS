{
 "cells": [
  {
   "cell_type": "markdown",
   "id": "3e41050d-c45d-41b0-ab41-cdb8de34f6c3",
   "metadata": {},
   "source": [
    "# Python Practice Assignment 1"
   ]
  },
  {
   "cell_type": "markdown",
   "id": "fd2ed24a-189a-4bf0-afa8-3dcae5db407a",
   "metadata": {
    "jp-MarkdownHeadingCollapsed": true,
    "tags": []
   },
   "source": [
    "# Data Types Question : Level -> Easy"
   ]
  },
  {
   "cell_type": "markdown",
   "id": "1b8d6f0d-c2db-4ab7-97ea-8cc4dd5d61ed",
   "metadata": {},
   "source": [
    "Q1)  Write a Python program that takes a string as input from the user and returns the length of the string."
   ]
  },
  {
   "cell_type": "code",
   "execution_count": 1,
   "id": "74898669-9da3-4f9b-9ed4-d498270f648f",
   "metadata": {
    "tags": []
   },
   "outputs": [],
   "source": [
    "# Write the code answer in this cell"
   ]
  },
  {
   "cell_type": "markdown",
   "id": "09668e46-9df2-4717-85c2-d9e758ebf2d9",
   "metadata": {},
   "source": [
    "Q2) Write a Python program that takes a list of integers as input and returns the sum of all the elements in the list."
   ]
  },
  {
   "cell_type": "code",
   "execution_count": 2,
   "id": "fb378621-2c67-4847-bfac-d0923e5d0736",
   "metadata": {
    "tags": []
   },
   "outputs": [],
   "source": [
    "# Write the code answer in this cell"
   ]
  },
  {
   "cell_type": "markdown",
   "id": "e12d1b77-fcba-48b8-9ddf-7b807a46853a",
   "metadata": {},
   "source": [
    "Q3) Write a Python program that takes a list of integers as input from the user, converts it into a tuple and returns the first element of the tuple."
   ]
  },
  {
   "cell_type": "code",
   "execution_count": 3,
   "id": "ffbaa6fa-c6a5-48de-8394-89b2b2bab435",
   "metadata": {
    "tags": []
   },
   "outputs": [],
   "source": [
    "# Write the code answer in this cell"
   ]
  },
  {
   "cell_type": "markdown",
   "id": "6ef8ef93-4f1a-4a14-a99d-5879179ae230",
   "metadata": {
    "jp-MarkdownHeadingCollapsed": true,
    "tags": []
   },
   "source": [
    "# Data Types Question : Level -> Medium"
   ]
  },
  {
   "cell_type": "markdown",
   "id": "55554f8f-756a-4ef2-af74-3d5291608844",
   "metadata": {},
   "source": [
    "Q1) Write a Python program that takes a string as input from the user and converts the string to uppercase. "
   ]
  },
  {
   "cell_type": "code",
   "execution_count": 4,
   "id": "461e66b4-6e8e-4c40-b012-e407206bb727",
   "metadata": {
    "tags": []
   },
   "outputs": [],
   "source": [
    "# Write the code answer in this cell"
   ]
  },
  {
   "cell_type": "markdown",
   "id": "cdfc3e57-2453-4379-988a-e9e9ba6ee4d5",
   "metadata": {},
   "source": [
    "Q2) Write a Python program that takes a list of integers as input and returns the average of all the elements in the list."
   ]
  },
  {
   "cell_type": "code",
   "execution_count": 5,
   "id": "dda6f5cf-87ed-4781-9df6-2a2e99dd3788",
   "metadata": {
    "tags": []
   },
   "outputs": [],
   "source": [
    "# Write the code answer in this cell"
   ]
  },
  {
   "cell_type": "markdown",
   "id": "6a516193-c681-498b-b8c2-bf0f7dcdc4c8",
   "metadata": {},
   "source": [
    "Q3) Write a Python program that takes a dictionary as input from the user and returns the keys of the dictionary in alphabetical order."
   ]
  },
  {
   "cell_type": "code",
   "execution_count": 6,
   "id": "6f38be53-c5bd-4b7e-9305-aab11484cc68",
   "metadata": {
    "tags": []
   },
   "outputs": [],
   "source": [
    "# Write the code answer in this cell"
   ]
  },
  {
   "cell_type": "markdown",
   "id": "1491f814-d56f-4a7b-93d2-f281d54a941b",
   "metadata": {
    "jp-MarkdownHeadingCollapsed": true,
    "tags": []
   },
   "source": [
    "# Data Types Question : Level -> Hard"
   ]
  },
  {
   "cell_type": "markdown",
   "id": "19151b47-15e0-4203-be0b-d2b0af44af3b",
   "metadata": {},
   "source": [
    "Q1) Write a Python program that takes a string as input from the user and removes all the vowels from the string."
   ]
  },
  {
   "cell_type": "code",
   "execution_count": 7,
   "id": "19ad1155-b32e-4974-940f-b313f7328ec8",
   "metadata": {
    "tags": []
   },
   "outputs": [],
   "source": [
    "# Write the code answer in this cell"
   ]
  },
  {
   "cell_type": "markdown",
   "id": "140d8bef-1ab0-4064-8b56-3123d5e3dbc0",
   "metadata": {},
   "source": [
    "Q2) Write a Python program that takes a list of 3 strings as input and returns a new list with all the strings in uppercase."
   ]
  },
  {
   "cell_type": "code",
   "execution_count": 8,
   "id": "aa4ea3f2-5d39-4b4d-890a-1d9f0aeba56c",
   "metadata": {
    "tags": []
   },
   "outputs": [],
   "source": [
    "# Write the code answer in this cell"
   ]
  },
  {
   "cell_type": "markdown",
   "id": "d8029003-6c55-497b-bfa8-756e48c451e4",
   "metadata": {},
   "source": [
    "Q3) Write a Python program that takes a dictionary as input from the user and returns the values of the dictionary in descending order."
   ]
  },
  {
   "cell_type": "code",
   "execution_count": 9,
   "id": "e0a1cfd1-175d-4d4f-ad92-26207b29f069",
   "metadata": {
    "tags": []
   },
   "outputs": [],
   "source": [
    "# Write the code answer in this cell"
   ]
  },
  {
   "cell_type": "markdown",
   "id": "62067b0e-ead6-442c-97c3-65080c76e40c",
   "metadata": {
    "jp-MarkdownHeadingCollapsed": true,
    "tags": []
   },
   "source": [
    "# If Else Questions : Level -> Easy"
   ]
  },
  {
   "cell_type": "markdown",
   "id": "a3012d0c-32d1-4b1d-ac33-00f7311eb054",
   "metadata": {},
   "source": [
    "Q1) Write a Python program that takes an integer as input from the user and checks if the number is positive, negative, or zero."
   ]
  },
  {
   "cell_type": "code",
   "execution_count": 11,
   "id": "97294957-89b5-4a83-b41e-bd1299186999",
   "metadata": {
    "tags": []
   },
   "outputs": [],
   "source": [
    "# Write the code answer in this cell (Try to code both approaches i.e. using nested if else and if elif else)"
   ]
  },
  {
   "cell_type": "markdown",
   "id": "09230752-7b62-47d6-881b-aa845571efd2",
   "metadata": {},
   "source": [
    "Q2) Write a Python program that takes two numbers as input and finds the maximum of the two numbers."
   ]
  },
  {
   "cell_type": "code",
   "execution_count": 12,
   "id": "c3c64c3f-8cf8-46ed-a877-178c440578e5",
   "metadata": {
    "tags": []
   },
   "outputs": [],
   "source": [
    "# Write the code answer in this cell"
   ]
  },
  {
   "cell_type": "markdown",
   "id": "2b83b8e9-732a-46ad-8b08-46a273c28f35",
   "metadata": {
    "jp-MarkdownHeadingCollapsed": true,
    "tags": []
   },
   "source": [
    "# If Else Questions : Level -> Medium"
   ]
  },
  {
   "cell_type": "markdown",
   "id": "cd6863d1-3aaf-498f-8237-cbd85edad8c0",
   "metadata": {},
   "source": [
    "Q1) Write a Python program that takes a string as input from the user and checks if the string is a palindrome or not."
   ]
  },
  {
   "cell_type": "code",
   "execution_count": 13,
   "id": "9a71053a-33ff-4dee-8ac9-2dcf32acc7c8",
   "metadata": {
    "tags": []
   },
   "outputs": [],
   "source": [
    "# Write the code answer in this cell"
   ]
  },
  {
   "cell_type": "markdown",
   "id": "d24aef27-30a9-4ce6-aea8-7cda2baff271",
   "metadata": {},
   "source": [
    "Q2) Given a string as input if the length is less than 10 replace all spaces with % and title case the string else replace the spaces with @ and make the entire string upper case"
   ]
  },
  {
   "cell_type": "code",
   "execution_count": 14,
   "id": "fb59a05b-fd32-4176-849e-b5873ca654e8",
   "metadata": {
    "tags": []
   },
   "outputs": [],
   "source": [
    "# Write the code answer in this cell"
   ]
  },
  {
   "cell_type": "markdown",
   "id": "7597a415-a628-4684-8935-1b1aae0b4b5f",
   "metadata": {
    "jp-MarkdownHeadingCollapsed": true,
    "tags": []
   },
   "source": [
    "# If Else Question : Level -> Hard"
   ]
  },
  {
   "cell_type": "markdown",
   "id": "451c49e2-3880-44ba-8704-ed4c52acb95e",
   "metadata": {},
   "source": [
    "Q1) Write a Python program that checks if a given year is a leap year or not.<br>\n",
    "        The rules for determining whether a year is a leap year in the <br>\n",
    "        Gregorian calendar are as follows:<br>\n",
    "                        1) If a year is divisible by 4, it is a leap year.<br>\n",
    "                        2) However, if the year is also divisible by 100, <br>\n",
    "                        it is not a leap year, <br>\n",
    "                        unless it is also divisible by 400.<br>"
   ]
  },
  {
   "cell_type": "markdown",
   "id": "b45e15c6-31c7-4dda-adf7-641b1645cebb",
   "metadata": {
    "tags": []
   },
   "source": [
    "### The following test cases should be passed by your program:\n",
    "\n",
    "Test case for a leap year that is divisible by 4 and not divisible by 100:\n",
    "\n",
    "Input: 2008\n",
    "Expected output: \"2008 is a leap year\"\n",
    "Explanation: 2008 is divisible by 4 and not divisible by 100, so it is a leap year.\n",
    "Test case for a year that is not a leap year and not divisible by 4:\n",
    "\n",
    "Input: 2009\n",
    "Expected output: \"2009 is not a leap year\"\n",
    "Explanation: 2009 is not divisible by 4, so it is not a leap year.\n",
    "Test case for a year that is not a leap year and divisible by 4 but also divisible by 100:\n",
    "\n",
    "Input: 1900\n",
    "Expected output: \"1900 is not a leap year\"\n",
    "Explanation: 1900 is divisible by 4, but it is also divisible by 100, so it is not a leap year.\n",
    "Test case for a leap year that is divisible by 4, divisible by 100, and divisible by 400:\n",
    "\n",
    "Input: 2000\n",
    "Expected output: \"2000 is a leap year\"\n",
    "Explanation: 2000 is divisible by 4, divisible by 100, and divisible by 400, so it is a leap year.\n",
    "Test case for a year that is not a leap year and divisible by 4 and 100 but not divisible by 400:\n",
    "\n",
    "Input: 1700\n",
    "Expected output: \"1700 is not a leap year\"\n",
    "Explanation: 1700 is divisible by 4 and 100, but it is not divisible by 400, so it is not a leap year.\n",
    "Test case for a year that is not a leap year and divisible by 4 and not divisible by 100 but also not divisible by 400:\n",
    "\n",
    "Input: 2018\n",
    "Expected output: \"2018 is not a leap year\"\n",
    "Explanation: 2018 is divisible by 4, but it is not divisible by 100 and not divisible by 400, so it is not a leap year."
   ]
  },
  {
   "cell_type": "code",
   "execution_count": 15,
   "id": "f07e2fd2-ff26-47f5-b9a9-416eb1e13ea0",
   "metadata": {
    "tags": []
   },
   "outputs": [],
   "source": [
    "# Write the code answer in this cell"
   ]
  }
 ],
 "metadata": {
  "kernelspec": {
   "display_name": "IRL_class",
   "language": "python",
   "name": "irl_class"
  },
  "language_info": {
   "codemirror_mode": {
    "name": "ipython",
    "version": 3
   },
   "file_extension": ".py",
   "mimetype": "text/x-python",
   "name": "python",
   "nbconvert_exporter": "python",
   "pygments_lexer": "ipython3",
   "version": "3.8.10"
  }
 },
 "nbformat": 4,
 "nbformat_minor": 5
}
