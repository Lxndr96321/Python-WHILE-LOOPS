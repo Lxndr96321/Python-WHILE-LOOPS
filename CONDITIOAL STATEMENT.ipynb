{
 "cells": [
  {
   "cell_type": "code",
   "execution_count": 3,
   "id": "6d80ff19",
   "metadata": {},
   "outputs": [
    {
     "name": "stdout",
     "output_type": "stream",
     "text": [
      "assan\n"
     ]
    }
   ],
   "source": [
    "if True:\n",
    "    print('assan')"
   ]
  },
  {
   "cell_type": "code",
   "execution_count": 2,
   "id": "f78fef4d",
   "metadata": {},
   "outputs": [],
   "source": [
    "if False:                # the given statement is false then if statament can't excute\n",
    "    print('assan')"
   ]
  },
  {
   "cell_type": "code",
   "execution_count": 1,
   "id": "f966b618",
   "metadata": {},
   "outputs": [
    {
     "name": "stdout",
     "output_type": "stream",
     "text": [
      "a is less than b\n",
      "executing the rest of the code\n"
     ]
    }
   ],
   "source": [
    "a,b = 1,10\n",
    "if a < b:\n",
    "    print('a is less than b')\n",
    "    \n",
    "    \n",
    "print('executing the rest of the code')"
   ]
  },
  {
   "cell_type": "code",
   "execution_count": 12,
   "id": "0aa47969",
   "metadata": {},
   "outputs": [
    {
     "name": "stdout",
     "output_type": "stream",
     "text": [
      "executing the rest of the code\n"
     ]
    }
   ],
   "source": [
    "if a > b:\n",
    "    print('a is less than b')\n",
    "    \n",
    "    \n",
    "print('executing the rest of the code')"
   ]
  },
  {
   "cell_type": "code",
   "execution_count": 13,
   "id": "038e2ed1",
   "metadata": {},
   "outputs": [
    {
     "name": "stdout",
     "output_type": "stream",
     "text": [
      "hi\n"
     ]
    }
   ],
   "source": [
    "if 5+5:\n",
    "    print('hi')"
   ]
  },
  {
   "cell_type": "code",
   "execution_count": 15,
   "id": "e9f91f59",
   "metadata": {},
   "outputs": [
    {
     "name": "stdout",
     "output_type": "stream",
     "text": [
      "executing the rest of the code\n"
     ]
    }
   ],
   "source": [
    "if 5-5:      # 0 if false\n",
    "    print('hi')\n",
    "    \n",
    "print('executing the rest of the code')"
   ]
  },
  {
   "cell_type": "code",
   "execution_count": 16,
   "id": "8ea2358c",
   "metadata": {},
   "outputs": [
    {
     "name": "stdout",
     "output_type": "stream",
     "text": [
      "hi\n",
      "executing the rest of the code\n"
     ]
    }
   ],
   "source": [
    "if 5-5.5 :      #  if true\n",
    "    print('hi')\n",
    "    \n",
    "print('executing the rest of the code')"
   ]
  },
  {
   "cell_type": "code",
   "execution_count": 17,
   "id": "33e78445",
   "metadata": {},
   "outputs": [
    {
     "name": "stdout",
     "output_type": "stream",
     "text": [
      "5+5\n"
     ]
    }
   ],
   "source": [
    "# input()\n",
    "x = input()"
   ]
  },
  {
   "cell_type": "code",
   "execution_count": 18,
   "id": "815772b5",
   "metadata": {},
   "outputs": [
    {
     "data": {
      "text/plain": [
       "'5+5'"
      ]
     },
     "execution_count": 18,
     "metadata": {},
     "output_type": "execute_result"
    }
   ],
   "source": [
    "x"
   ]
  },
  {
   "cell_type": "code",
   "execution_count": 21,
   "id": "5ed6a7b4",
   "metadata": {},
   "outputs": [
    {
     "name": "stdout",
     "output_type": "stream",
     "text": [
      "informate message: 23\n"
     ]
    }
   ],
   "source": [
    "x = input('informate message: ')"
   ]
  },
  {
   "cell_type": "code",
   "execution_count": 35,
   "id": "f67f7908",
   "metadata": {},
   "outputs": [
    {
     "name": "stdout",
     "output_type": "stream",
     "text": [
      "Enter marks: 67\n",
      "pass\n"
     ]
    }
   ],
   "source": [
    "# Q) write a python code which accept marks which marks <60 is pass\n",
    "\n",
    "x = int(input('Enter marks: '))\n",
    "if x>=60:\n",
    "    print('pass')\n",
    "else:\n",
    "    print('fail')"
   ]
  },
  {
   "cell_type": "code",
   "execution_count": 9,
   "id": "e4e2a082",
   "metadata": {},
   "outputs": [
    {
     "name": "stdout",
     "output_type": "stream",
     "text": [
      "Enther the values : 10 * 20\n",
      "200\n"
     ]
    }
   ],
   "source": [
    "# -------> create a calculator which takes one inputs from given arthamatic operator has to excute\n",
    "\n",
    "y = input('Enther the values : ')\n",
    "x = y.split()\n",
    "\n",
    "a , b , c = int(x[0]) , x[1] , int(x[2])\n",
    "\n",
    "if b == '+':\n",
    "    print(a+c)\n",
    "elif b == '-':\n",
    "    print(a-c)\n",
    "elif b == '*':\n",
    "    print(a*c)\n",
    "elif b == '**':\n",
    "    print(a**c)\n",
    "elif b == '/':\n",
    "    print(a/c)\n",
    "elif b == '//':\n",
    "    print(a//c)\n",
    "elif c == '%':\n",
    "    print(a%b)\n",
    "else:\n",
    "    print('invalid')"
   ]
  },
  {
   "cell_type": "code",
   "execution_count": 3,
   "id": "bbdc1bb0",
   "metadata": {},
   "outputs": [
    {
     "name": "stdout",
     "output_type": "stream",
     "text": [
      "Enter your marks: 101\n",
      "invalid marks\n"
     ]
    }
   ],
   "source": [
    "# write a program check wether the student will pass or fail                                #------> Date:24/04/2023\n",
    "\n",
    "x = int(input('Enter your marks: '))\n",
    "if x<35:\n",
    "    print('fail')\n",
    "elif x>35 and x<=100:\n",
    "    print('pass')\n",
    "else:\n",
    "    print('invalid marks')"
   ]
  },
  {
   "cell_type": "code",
   "execution_count": 6,
   "id": "d46c8ee9",
   "metadata": {},
   "outputs": [
    {
     "name": "stdout",
     "output_type": "stream",
     "text": [
      "Enter the value: 11\n",
      "Odd number\n"
     ]
    }
   ],
   "source": [
    "# write a code given number is even or odd\n",
    "\n",
    "x = int(input('Enter the value: '))\n",
    "if x%2==0:\n",
    "    print('Even number')\n",
    "else:\n",
    "    print('Odd number')"
   ]
  },
  {
   "cell_type": "code",
   "execution_count": 8,
   "id": "f756b3df",
   "metadata": {},
   "outputs": [
    {
     "name": "stdout",
     "output_type": "stream",
     "text": [
      "Enter your marks: 40\n",
      "fail\n"
     ]
    }
   ],
   "source": [
    "# write a program which accepts marks from student marks>85 printfcd marks>60 fc , marks>40sc , marks<40 fail\n",
    "\n",
    "marks = int(input('Enter your marks: '))\n",
    "if marks>85:\n",
    "    print('first class dist')\n",
    "elif marks>60:\n",
    "    print('first class')\n",
    "elif marks>40:\n",
    "    print('second class')\n",
    "else:\n",
    "    print('fail')"
   ]
  },
  {
   "cell_type": "code",
   "execution_count": 13,
   "id": "86dbec01",
   "metadata": {},
   "outputs": [
    {
     "name": "stdout",
     "output_type": "stream",
     "text": [
      "Enter your marks: 123\n",
      "invalid marks\n"
     ]
    }
   ],
   "source": [
    "marks = int(input('Enter your marks: '))\n",
    "if marks>40 and marks<60:\n",
    "    print('second class')\n",
    "elif marks>60 and marks<80:\n",
    "    print('first class')\n",
    "elif marks>80 and marks<100:\n",
    "    print('first class dist')\n",
    "elif marks>100:\n",
    "    print('invalid marks')\n",
    "else:\n",
    "    print('fail')"
   ]
  },
  {
   "cell_type": "code",
   "execution_count": 4,
   "id": "8857421e",
   "metadata": {},
   "outputs": [
    {
     "name": "stdout",
     "output_type": "stream",
     "text": [
      "Enter your number: 6\n",
      "Enter your word: assan\n",
      "x is even and word stats with vowel\n"
     ]
    }
   ],
   "source": [
    "# which accepts a number and a string from the user and check wether the string stating with an vowel and\n",
    "#if the number is even or add\n",
    "x = int(input('Enter your number: '))\n",
    "y = input('Enter your word: ').lower()\n",
    "vowels = ['a','e','i','o','u']\n",
    "if x%2==0 and y[0] in vowels:\n",
    "    print('x is even and word stats with vowel' )\n",
    "elif x%2!=0 and y[0] in vowels:\n",
    "    print('x is odd and word stats with vowel')\n",
    "elif x%2==0 and y[0] not in vowels:\n",
    "    print('x is even and word not stats with vowel')\n",
    "elif x%2!=0 and y[0] not in vowels:\n",
    "    print('x is odd and word not stats with vowel')\n",
    "else:\n",
    "    print('Enter a valid number')"
   ]
  },
  {
   "cell_type": "code",
   "execution_count": null,
   "id": "e6c69718",
   "metadata": {},
   "outputs": [],
   "source": []
  },
  {
   "cell_type": "code",
   "execution_count": null,
   "id": "56fc791d",
   "metadata": {},
   "outputs": [],
   "source": []
  }
 ],
 "metadata": {
  "kernelspec": {
   "display_name": "Python 3 (ipykernel)",
   "language": "python",
   "name": "python3"
  },
  "language_info": {
   "codemirror_mode": {
    "name": "ipython",
    "version": 3
   },
   "file_extension": ".py",
   "mimetype": "text/x-python",
   "name": "python",
   "nbconvert_exporter": "python",
   "pygments_lexer": "ipython3",
   "version": "3.10.9"
  }
 },
 "nbformat": 4,
 "nbformat_minor": 5
}
